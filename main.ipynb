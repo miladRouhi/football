{
 "cells": [
  {
   "cell_type": "code",
   "execution_count": 1,
   "metadata": {},
   "outputs": [],
   "source": [
    "import pandas as pd\n",
    "results = pd.read_csv('allResults.csv')"
   ]
  },
  {
   "cell_type": "markdown",
   "metadata": {},
   "source": [
    "بهترین تیم تاریخ"
   ]
  },
  {
   "cell_type": "code",
   "execution_count": 2,
   "metadata": {},
   "outputs": [
    {
     "data": {
      "text/plain": [
       "winner\n",
       "Brazil         672\n",
       "England        615\n",
       "Argentina      591\n",
       "Germany        591\n",
       "South Korea    543\n",
       "Sweden         536\n",
       "Mexico         505\n",
       "Italy          468\n",
       "France         465\n",
       "Hungary        465\n",
       "Name: count, dtype: int64"
      ]
     },
     "execution_count": 2,
     "metadata": {},
     "output_type": "execute_result"
    }
   ],
   "source": [
    "results[results[\"winner\"] != \"tied\"][\"winner\"].value_counts().sort_values(ascending=False)[0:10]"
   ]
  },
  {
   "cell_type": "markdown",
   "metadata": {},
   "source": [
    "بهترین تیم هر سال"
   ]
  },
  {
   "cell_type": "code",
   "execution_count": 3,
   "metadata": {},
   "outputs": [],
   "source": [
    "results['date'] = pd.to_datetime(results['date'])"
   ]
  },
  {
   "cell_type": "code",
   "execution_count": 4,
   "metadata": {},
   "outputs": [],
   "source": [
    "results[\"year\"] = pd.DatetimeIndex(results[\"date\"]).year"
   ]
  },
  {
   "cell_type": "code",
   "execution_count": 5,
   "metadata": {},
   "outputs": [
    {
     "data": {
      "text/plain": [
       "winner\n",
       "Iran    12\n",
       "Name: count, dtype: int64"
      ]
     },
     "execution_count": 5,
     "metadata": {},
     "output_type": "execute_result"
    }
   ],
   "source": [
    "results[(results[\"year\"] == 2024) & (results[\"winner\"] != \"tied\")][\"winner\"].value_counts().sort_values(ascending=False)[0:1]"
   ]
  },
  {
   "cell_type": "code",
   "execution_count": 6,
   "metadata": {},
   "outputs": [
    {
     "data": {
      "text/plain": [
       "array([1872, 1873, 1874, 1875, 1876, 1877, 1878, 1879, 1880, 1881, 1882,\n",
       "       1883, 1884, 1885, 1886, 1887, 1888, 1889, 1890, 1891, 1892, 1893,\n",
       "       1894, 1895, 1896, 1897, 1898, 1899, 1900, 1901, 1902, 1903, 1904,\n",
       "       1905, 1906, 1907, 1908, 1909, 1910, 1911, 1912, 1913, 1914, 1915,\n",
       "       1916, 1917, 1918, 1919, 1920, 1921, 1922, 1923, 1924, 1925, 1926,\n",
       "       1927, 1928, 1929, 1930, 1931, 1932, 1933, 1934, 1935, 1936, 1937,\n",
       "       1938, 1939, 1940, 1941, 1942, 1943, 1944, 1945, 1946, 1947, 1948,\n",
       "       1949, 1950, 1951, 1952, 1953, 1954, 1955, 1956, 1957, 1958, 1959,\n",
       "       1960, 1961, 1962, 1963, 1964, 1965, 1966, 1967, 1968, 1969, 1970,\n",
       "       1971, 1972, 1973, 1974, 1975, 1976, 1977, 1978, 1979, 1980, 1981,\n",
       "       1982, 1983, 1984, 1985, 1986, 1987, 1988, 1989, 1990, 1991, 1992,\n",
       "       1993, 1994, 1995, 1996, 1997, 1998, 1999, 2000, 2001, 2002, 2003,\n",
       "       2004, 2005, 2006, 2007, 2008, 2009, 2010, 2011, 2012, 2013, 2014,\n",
       "       2015, 2016, 2017, 2018, 2019, 2020, 2021, 2022, 2023, 2024])"
      ]
     },
     "execution_count": 6,
     "metadata": {},
     "output_type": "execute_result"
    }
   ],
   "source": [
    "years = results[\"year\"].unique()\n",
    "years"
   ]
  },
  {
   "cell_type": "code",
   "execution_count": 7,
   "metadata": {},
   "outputs": [
    {
     "data": {
      "text/plain": [
       "['None',\n",
       " 'England',\n",
       " 'Scotland',\n",
       " 'None',\n",
       " 'Scotland',\n",
       " 'Scotland',\n",
       " 'Scotland',\n",
       " 'England',\n",
       " 'Scotland',\n",
       " 'Scotland',\n",
       " 'Wales',\n",
       " 'England',\n",
       " 'Scotland',\n",
       " 'Scotland',\n",
       " 'England',\n",
       " 'Scotland',\n",
       " 'England',\n",
       " 'England',\n",
       " 'England',\n",
       " 'England',\n",
       " 'England',\n",
       " 'England',\n",
       " 'Scotland',\n",
       " 'England',\n",
       " 'England',\n",
       " 'England',\n",
       " 'England',\n",
       " 'England',\n",
       " 'Scotland',\n",
       " 'England',\n",
       " 'Scotland',\n",
       " 'England',\n",
       " 'England',\n",
       " 'England',\n",
       " 'Belgium',\n",
       " 'Wales',\n",
       " 'England',\n",
       " 'England',\n",
       " 'Argentina',\n",
       " 'Hungary',\n",
       " 'Hungary',\n",
       " 'Belgium',\n",
       " 'Sweden',\n",
       " 'Denmark',\n",
       " 'Argentina',\n",
       " 'Uruguay',\n",
       " 'Hungary',\n",
       " 'Argentina',\n",
       " 'Switzerland',\n",
       " 'Scotland',\n",
       " 'Uruguay',\n",
       " 'Argentina',\n",
       " 'Sweden',\n",
       " 'Austria',\n",
       " 'Austria',\n",
       " 'Czechoslovakia',\n",
       " 'Italy',\n",
       " 'Sweden',\n",
       " 'Cuba',\n",
       " 'Austria',\n",
       " 'Austria',\n",
       " 'Italy',\n",
       " 'Germany',\n",
       " 'Germany',\n",
       " 'Hungary',\n",
       " 'Germany',\n",
       " 'Italy',\n",
       " 'Germany',\n",
       " 'Argentina',\n",
       " 'Argentina',\n",
       " 'Germany',\n",
       " 'Hungary',\n",
       " 'Trinidad and Tobago',\n",
       " 'Argentina',\n",
       " 'Costa Rica',\n",
       " 'South Africa',\n",
       " 'Hungary',\n",
       " 'Brazil',\n",
       " 'Yugoslavia',\n",
       " 'Scotland',\n",
       " 'Sweden',\n",
       " 'Yugoslavia',\n",
       " 'Hungary',\n",
       " 'Hungary',\n",
       " 'Brazil',\n",
       " 'Argentina',\n",
       " 'Indonesia',\n",
       " 'Brazil',\n",
       " 'Brazil',\n",
       " 'Vietnam Republic',\n",
       " 'Brazil',\n",
       " 'Tunisia',\n",
       " 'England',\n",
       " 'Costa Rica',\n",
       " 'England',\n",
       " 'Vietnam Republic',\n",
       " 'Brazil',\n",
       " 'Sweden',\n",
       " 'South Korea',\n",
       " 'Malaysia',\n",
       " 'South Korea',\n",
       " 'Malaysia',\n",
       " 'Poland',\n",
       " 'South Korea',\n",
       " 'Malaysia',\n",
       " 'South Korea',\n",
       " 'South Korea',\n",
       " 'Iraq',\n",
       " 'South Korea',\n",
       " 'Brazil',\n",
       " 'Kuwait',\n",
       " 'Sweden',\n",
       " 'Ivory Coast',\n",
       " 'South Korea',\n",
       " 'Kuwait',\n",
       " 'Ivory Coast',\n",
       " 'United Arab Emirates',\n",
       " 'Brazil',\n",
       " 'South Korea',\n",
       " 'Ivory Coast',\n",
       " 'Australia',\n",
       " 'Mexico',\n",
       " 'Saudi Arabia',\n",
       " 'Brazil',\n",
       " 'Saudi Arabia',\n",
       " 'Brazil',\n",
       " 'Kuwait',\n",
       " 'Brazil',\n",
       " 'Honduras',\n",
       " 'Saudi Arabia',\n",
       " 'Brazil',\n",
       " 'France',\n",
       " 'Japan',\n",
       " 'United States',\n",
       " 'Germany',\n",
       " 'Saudi Arabia',\n",
       " 'Trinidad and Tobago',\n",
       " 'Spain',\n",
       " 'Netherlands',\n",
       " 'Panama',\n",
       " 'Spain',\n",
       " 'United States',\n",
       " 'Brazil',\n",
       " 'South Korea',\n",
       " 'France',\n",
       " 'Mexico',\n",
       " 'Belgium',\n",
       " 'Mexico',\n",
       " 'Austria',\n",
       " 'United States',\n",
       " 'Argentina',\n",
       " 'Panama',\n",
       " 'Iran']"
      ]
     },
     "execution_count": 7,
     "metadata": {},
     "output_type": "execute_result"
    }
   ],
   "source": [
    "mvp = []\n",
    "temp = results[results[\"winner\"] != \"tied\"]\n",
    "for i in years:\n",
    "    list = temp[temp[\"year\"] == i][\"winner\"].value_counts().sort_values(ascending=False)\n",
    "    if(len(list) > 0):\n",
    "        mvp.append(list.keys()[0])\n",
    "    else:\n",
    "        mvp.append(\"None\")\n",
    "mvp"
   ]
  },
  {
   "cell_type": "code",
   "execution_count": 8,
   "metadata": {},
   "outputs": [
    {
     "data": {
      "text/html": [
       "<div>\n",
       "<style scoped>\n",
       "    .dataframe tbody tr th:only-of-type {\n",
       "        vertical-align: middle;\n",
       "    }\n",
       "\n",
       "    .dataframe tbody tr th {\n",
       "        vertical-align: top;\n",
       "    }\n",
       "\n",
       "    .dataframe thead th {\n",
       "        text-align: right;\n",
       "    }\n",
       "</style>\n",
       "<table border=\"1\" class=\"dataframe\">\n",
       "  <thead>\n",
       "    <tr style=\"text-align: right;\">\n",
       "      <th></th>\n",
       "      <th>year</th>\n",
       "      <th>team</th>\n",
       "    </tr>\n",
       "  </thead>\n",
       "  <tbody>\n",
       "    <tr>\n",
       "      <th>0</th>\n",
       "      <td>1872</td>\n",
       "      <td>None</td>\n",
       "    </tr>\n",
       "    <tr>\n",
       "      <th>1</th>\n",
       "      <td>1873</td>\n",
       "      <td>England</td>\n",
       "    </tr>\n",
       "    <tr>\n",
       "      <th>2</th>\n",
       "      <td>1874</td>\n",
       "      <td>Scotland</td>\n",
       "    </tr>\n",
       "    <tr>\n",
       "      <th>3</th>\n",
       "      <td>1875</td>\n",
       "      <td>None</td>\n",
       "    </tr>\n",
       "    <tr>\n",
       "      <th>4</th>\n",
       "      <td>1876</td>\n",
       "      <td>Scotland</td>\n",
       "    </tr>\n",
       "  </tbody>\n",
       "</table>\n",
       "</div>"
      ],
      "text/plain": [
       "   year      team\n",
       "0  1872      None\n",
       "1  1873   England\n",
       "2  1874  Scotland\n",
       "3  1875      None\n",
       "4  1876  Scotland"
      ]
     },
     "execution_count": 8,
     "metadata": {},
     "output_type": "execute_result"
    }
   ],
   "source": [
    "mvpOverTime = pd.DataFrame({\"year\": years , \"team\": mvp})\n",
    "mvpOverTime.head()"
   ]
  },
  {
   "cell_type": "markdown",
   "metadata": {},
   "source": [
    "درصد پیروزی تیم میزبان"
   ]
  },
  {
   "cell_type": "code",
   "execution_count": 9,
   "metadata": {},
   "outputs": [],
   "source": [
    "a = results[(results[\"winner\"] == results[\"home_team\"]) & (results[\"neutral\"] == False)].shape[0]"
   ]
  },
  {
   "cell_type": "code",
   "execution_count": 10,
   "metadata": {},
   "outputs": [
    {
     "name": "stdout",
     "output_type": "stream",
     "text": [
      "37.587713769486115\n"
     ]
    }
   ],
   "source": [
    "homePercentage = (a / results.shape[0]) * 100\n",
    "print(homePercentage)"
   ]
  },
  {
   "cell_type": "markdown",
   "metadata": {},
   "source": [
    "کدوم تیم‌ها بیشتر مقابل هم بازی کرده‌اند؟"
   ]
  },
  {
   "cell_type": "code",
   "execution_count": 11,
   "metadata": {},
   "outputs": [],
   "source": [
    "df = results[[\"home_team\" , \"away_team\"]]"
   ]
  },
  {
   "cell_type": "code",
   "execution_count": 12,
   "metadata": {},
   "outputs": [
    {
     "name": "stderr",
     "output_type": "stream",
     "text": [
      "C:\\Users\\amitis\\AppData\\Local\\Temp\\ipykernel_2504\\1161736792.py:2: SettingWithCopyWarning: \n",
      "A value is trying to be set on a copy of a slice from a DataFrame.\n",
      "Try using .loc[row_indexer,col_indexer] = value instead\n",
      "\n",
      "See the caveats in the documentation: https://pandas.pydata.org/pandas-docs/stable/user_guide/indexing.html#returning-a-view-versus-a-copy\n",
      "  df[\"vs\"] = \"0\"\n"
     ]
    }
   ],
   "source": [
    "matches = []\n",
    "df[\"vs\"] = \"0\"\n",
    "for ixd , row in df.iterrows():\n",
    "    con1 = row[\"home_team\"] + \"-\" + row[\"away_team\"]\n",
    "    con2 = row[\"away_team\"] + \"-\" + row[\"home_team\"]\n",
    "    if con1 in matches or con2 in matches:\n",
    "        if con1 in matches:\n",
    "            df.iloc[ixd , df.columns.get_loc(\"vs\")] = con1\n",
    "        else:\n",
    "            df.iloc[ixd , df.columns.get_loc(\"vs\")] = con2\n",
    "    else:\n",
    "        df.iloc[ixd , df.columns.get_loc(\"vs\")] = con1\n",
    "        matches.append(con1)"
   ]
  },
  {
   "cell_type": "code",
   "execution_count": 13,
   "metadata": {},
   "outputs": [
    {
     "data": {
      "text/html": [
       "<div>\n",
       "<style scoped>\n",
       "    .dataframe tbody tr th:only-of-type {\n",
       "        vertical-align: middle;\n",
       "    }\n",
       "\n",
       "    .dataframe tbody tr th {\n",
       "        vertical-align: top;\n",
       "    }\n",
       "\n",
       "    .dataframe thead th {\n",
       "        text-align: right;\n",
       "    }\n",
       "</style>\n",
       "<table border=\"1\" class=\"dataframe\">\n",
       "  <thead>\n",
       "    <tr style=\"text-align: right;\">\n",
       "      <th></th>\n",
       "      <th>home_team</th>\n",
       "      <th>away_team</th>\n",
       "      <th>vs</th>\n",
       "    </tr>\n",
       "  </thead>\n",
       "  <tbody>\n",
       "    <tr>\n",
       "      <th>0</th>\n",
       "      <td>Scotland</td>\n",
       "      <td>England</td>\n",
       "      <td>Scotland-England</td>\n",
       "    </tr>\n",
       "    <tr>\n",
       "      <th>1</th>\n",
       "      <td>England</td>\n",
       "      <td>Scotland</td>\n",
       "      <td>Scotland-England</td>\n",
       "    </tr>\n",
       "    <tr>\n",
       "      <th>2</th>\n",
       "      <td>Scotland</td>\n",
       "      <td>England</td>\n",
       "      <td>Scotland-England</td>\n",
       "    </tr>\n",
       "    <tr>\n",
       "      <th>3</th>\n",
       "      <td>England</td>\n",
       "      <td>Scotland</td>\n",
       "      <td>Scotland-England</td>\n",
       "    </tr>\n",
       "    <tr>\n",
       "      <th>4</th>\n",
       "      <td>Scotland</td>\n",
       "      <td>England</td>\n",
       "      <td>Scotland-England</td>\n",
       "    </tr>\n",
       "    <tr>\n",
       "      <th>5</th>\n",
       "      <td>Scotland</td>\n",
       "      <td>Wales</td>\n",
       "      <td>Scotland-Wales</td>\n",
       "    </tr>\n",
       "    <tr>\n",
       "      <th>6</th>\n",
       "      <td>England</td>\n",
       "      <td>Scotland</td>\n",
       "      <td>Scotland-England</td>\n",
       "    </tr>\n",
       "    <tr>\n",
       "      <th>7</th>\n",
       "      <td>Wales</td>\n",
       "      <td>Scotland</td>\n",
       "      <td>Scotland-Wales</td>\n",
       "    </tr>\n",
       "    <tr>\n",
       "      <th>8</th>\n",
       "      <td>Scotland</td>\n",
       "      <td>England</td>\n",
       "      <td>Scotland-England</td>\n",
       "    </tr>\n",
       "    <tr>\n",
       "      <th>9</th>\n",
       "      <td>Scotland</td>\n",
       "      <td>Wales</td>\n",
       "      <td>Scotland-Wales</td>\n",
       "    </tr>\n",
       "  </tbody>\n",
       "</table>\n",
       "</div>"
      ],
      "text/plain": [
       "  home_team away_team                vs\n",
       "0  Scotland   England  Scotland-England\n",
       "1   England  Scotland  Scotland-England\n",
       "2  Scotland   England  Scotland-England\n",
       "3   England  Scotland  Scotland-England\n",
       "4  Scotland   England  Scotland-England\n",
       "5  Scotland     Wales    Scotland-Wales\n",
       "6   England  Scotland  Scotland-England\n",
       "7     Wales  Scotland    Scotland-Wales\n",
       "8  Scotland   England  Scotland-England\n",
       "9  Scotland     Wales    Scotland-Wales"
      ]
     },
     "execution_count": 13,
     "metadata": {},
     "output_type": "execute_result"
    }
   ],
   "source": [
    "df.head(10)"
   ]
  },
  {
   "cell_type": "code",
   "execution_count": 14,
   "metadata": {},
   "outputs": [
    {
     "data": {
      "text/plain": [
       "vs\n",
       "Uruguay-Argentina      182\n",
       "Austria-Hungary        137\n",
       "Belgium-Netherlands    128\n",
       "Jersey-Guernsey        119\n",
       "Scotland-England       118\n",
       "Kenya-Uganda           110\n",
       "Argentina-Brazil       109\n",
       "Sweden-Norway          109\n",
       "Denmark-Sweden         108\n",
       "Scotland-Wales         106\n",
       "Name: count, dtype: int64"
      ]
     },
     "execution_count": 14,
     "metadata": {},
     "output_type": "execute_result"
    }
   ],
   "source": [
    "df[\"vs\"].value_counts().sort_values(ascending=False)[0:10]"
   ]
  },
  {
   "cell_type": "markdown",
   "metadata": {},
   "source": [
    "کدوم کشور بیشتر میزبان بازی‌های بیطرف بوده؟"
   ]
  },
  {
   "cell_type": "code",
   "execution_count": 20,
   "metadata": {},
   "outputs": [
    {
     "data": {
      "text/plain": [
       "country\n",
       "United States           960\n",
       "Malaysia                508\n",
       "Qatar                   426\n",
       "France                  401\n",
       "Thailand                360\n",
       "South Africa            349\n",
       "United Arab Emirates    341\n",
       "England                 231\n",
       "Germany                 219\n",
       "Brazil                  214\n",
       "Name: count, dtype: int64"
      ]
     },
     "execution_count": 20,
     "metadata": {},
     "output_type": "execute_result"
    }
   ],
   "source": [
    "results[results[\"neutral\"] == True][\"country\"].value_counts().sort_values(ascending=False)[0:10]"
   ]
  },
  {
   "cell_type": "markdown",
   "metadata": {},
   "source": [
    "کدوم تیم بیشترین بازی دوستانه را داشته و این چه تاثیری روی عملکرد اون تیم داشته؟"
   ]
  },
  {
   "cell_type": "code",
   "execution_count": 22,
   "metadata": {},
   "outputs": [
    {
     "data": {
      "text/plain": [
       "home_team\n",
       "Mexico         316\n",
       "Germany        307\n",
       "France         301\n",
       "Hungary        285\n",
       "Sweden         261\n",
       "Austria        260\n",
       "Poland         252\n",
       "Belgium        250\n",
       "Netherlands    250\n",
       "Switzerland    248\n",
       "Name: count, dtype: int64"
      ]
     },
     "execution_count": 22,
     "metadata": {},
     "output_type": "execute_result"
    }
   ],
   "source": [
    "results[results[\"tournament\"] == \"Friendly\"][\"home_team\"].value_counts().sort_values(ascending=False)[0:10]"
   ]
  },
  {
   "cell_type": "code",
   "execution_count": 17,
   "metadata": {},
   "outputs": [
    {
     "data": {
      "text/plain": [
       "<Axes: xlabel='year'>"
      ]
     },
     "execution_count": 17,
     "metadata": {},
     "output_type": "execute_result"
    },
    {
     "data": {
      "image/png": "[encoded data removed]",
      "text/plain": [
       "<Figure size 640x480 with 1 Axes>"
      ]
     },
     "metadata": {},
     "output_type": "display_data"
    }
   ],
   "source": [
    "results[(results[\"winner\"] == \"Mexico\") & (results[\"tournament\"] != \"Friendly\")][\"year\"].value_counts().sort_index()[-21:].plot.bar()"
   ]
  },
  {
   "cell_type": "code",
   "execution_count": null,
   "metadata": {},
   "outputs": [],
   "source": []
  }
 ],
 "metadata": {
  "kernelspec": {
   "display_name": "Python 3",
   "language": "python",
   "name": "python3"
  },
  "language_info": {
   "codemirror_mode": {
    "name": "ipython",
    "version": 3
   },
   "file_extension": ".py",
   "mimetype": "text/x-python",
   "name": "python",
   "nbconvert_exporter": "python",
   "pygments_lexer": "ipython3",
   "version": "3.10.11"
  }
 },
 "nbformat": 4,
 "nbformat_minor": 2
}
